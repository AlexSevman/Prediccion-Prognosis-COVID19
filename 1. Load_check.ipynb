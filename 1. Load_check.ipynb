{
 "cells": [
  {
   "cell_type": "markdown",
   "id": "03373b1a",
   "metadata": {},
   "source": [
    "# Variable\tDescription\n",
    "- subject_id--> Subject ID\n",
    "- COVID --> COVID status (tested positive prior to enrollment or during hospitalization)    0 = negative    1= positive\n",
    "- Age cat--> Age category    1 = 20-34    2 = 36-49    3 = 50-64    4 = 65-79    5 = 80+ \n",
    "- BMI cat--> Body mass index:    0 = <18.5 (underweight)    1 = 18.5-24.9 (normal)    2 = 25.0-29.9 (overweight)    3 = 30.0-39.9 (obese)    4 = >=40 (severely obese)    5 = Unknown\n",
    "- HEART--> Pre-existing heart disease – HEART - (coronary artery disease, congestive heart failure, valvular disease)    0 = No    1 = Yes\n",
    "- LUNG--> Pre-existing lung disease – LUNG - (asthma, COPD, requiring home O2, any chronic lung condition)    0 = No    1 = Yes    \n",
    "- KIDNEY--> Pre-existing kidney disease – KIDNEY - (chronic kidney disease, baseline creatinine >1.5, ESRD)    0 = No    1 = Yes    \n",
    "- DIABETES--> Pre-existing diabetes – DIABETES - (pre-diabetes, insulin and non-insulin dependent diabetes)    0 = No    1 = Yes    \n",
    "- HTN-->Pre-existing hypertension - HTN    0 = No    1 = Yes    \n",
    "- IMMUNO--> Pre-existing immunocompromised condition – IMMUNO (active cancer, chemotherapy, transplant, immunosuppressant agents, aspenic)    0 = No    1 = Yes    \n",
    "- Resp_Symp--> Respiratory symptoms – Symp_Resp (sore throat, congestion, productive or dry cough, shortness of breath or hypoxia, or chest pain)    0 = No    1 = Yes    \n",
    "- Fever_Sympt--> Febrile symptom\n",
    "- GI_Symp--> Any GI related symptoms at presentation (abdominal pain, nausea, vomiting, diarrhea)\n",
    "- D0_draw--> Study draw on Day 0   0 = No   1 = Yes\n",
    "- D3_draw--> Study draw in Day 3 window (study day 2 to study day 4)   0 = No   1 = Yes\n",
    "- D7_draw--> Study draw in Day 7 window (study day 5 to study day 9)   0 = No   1 = Yes\n",
    "- DE_draw--> Study draw for an event - event can include decompensation such as ICU admit or intubation, or extubation   0 = No   1 = Yes\n",
    "- Acuity 0--> Acuity score maximum for day 0 study window - highest Acuity within Day 0 window (enrollment plus 24 hours) :    1 = Death     2 = Intubated / ventilated      3 = Hospitalized, supplementary O2 required     4 = Hospitalized, no supplementary O2 required     5 = Discharged / Not hospitalized\n",
    "- Acuity 3--> Acuity score maximum for day 3 study window (study day 2 to study day 4):    1 = Death     2 = Intubated / ventilated      3 = Hospitalized, supplementary O2 required     4 = Hospitalized, no supplementary O2 required     5 = Discharged / Not hospitalized\n",
    "- Acuity 7--> Acuity score maximum for day 7 study window (study day 5 to study day 9):    1 = Death     2 = Intubated / ventilated      3 = Hospitalized, supplementary O2 required     4 = Hospitalized, no supplementary O2 required     5 = Discharged / Not hospitalized\n",
    "- Acuity 28--> Acuity score on day 28:   1 = Death     2 = Intubated / ventilated      3 = Hospitalized, supplementary O2 required     4 = Hospitalized, no supplementary O2 required     5 = Discharged / Not hospitalized\n",
    "- Acuity max--> Acuity max is the highest Acuity level between Day 0 -28     1 = Death within 28 days     2 = Intubated / ventilated, survived to 28 days     3 = Hospitalized, supplementary O2 required, survived to 28 days     4 = Hospitalized, no supplementary O2 required, survived to 28 days     5 = Discharged, was not admitted to hospital within 28 day window, survived\n",
    "- abs_neut_0_cat--> Absulute neutrophil count day 0 category:    1 = 0-0.99    2 = 1.0-3.99    3 = 4.0-7.99    4 = 8.0-11.99    5 = 12+\n",
    "- abs_lymph_0_cat--> Absolute lymphocyte count day 0 category:    1 = 0-0.49    2 = 0.50-0.99    3 = 1.00-1.49    4 = 1.50-1.99    5 = 2+    \n",
    "- abs_mono_0_cat--> Absolute monocyte day 0 category    1 = 0-0.24    2 = 0.25-0.49    3 = 0.50-0.74    4 = 0.75-0.99    5 = 1.0+\n",
    "- creat_0_cat--> Creatinine day 0 category    1 = 0-0.79    2 = 0.80-1.19    3 = 1.20-1.79    4 = 1.80-2.99    5 = 3+\n",
    "- crp_0_cat--> c-reactive protein day 0 category:    1 = 0-19.9    2 = 20-59.0    3 = 60-99.9    4 = 100-179    5 = 180+\n",
    "- ddimer_0_cat--> D-dimer  day 0 category:    1 = 0-499    2 = 500-999    3 = 1000-1999    4 = 2000-3999    5 = 4000+\n",
    "- ldh_0_cat--> Lactate dehydrogenase day 0 category:    1 = 0-200    2 = 200-299    3 = 300-399    4 = 400-499    5 = 500+\n",
    "- Trop_72h--> Cardiac event – Trop_72h - (hs-cTn =>100 within first 72 hours of presentation)    0 = No    1 = Yes    \n",
    "- abs_neut_3_cat--> Absulute neutrophil count day 3 category:    1 = 0-0.99    2 = 1.0-3.99    3 = 4.0-7.99    4 = 8.0-11.99    5 = 12+\n",
    "- abs_lymph_3_cat--> Absolute lymphocyte count day 3 category:    1 = 0-0.49    2 = 0.50-0.99    3 = 1.00-1.49    4 = 1.50-1.99    5 = 2+    \n",
    "- abs_mono_3_cat--> Absolute monocyte count day 3 category:    1 = 0-0.24    2 = 0.25-0.49    3 = 0.50-0.74    4 = 0.75-0.99    5 = 1.0+\n",
    "- creat_3_cat--> Creatinine day 3 category    1 = 0-0.79    2 = 0.80-1.19    3 = 1.20-1.79    4 = 1.80-2.99    5 = 3+\n",
    "- crp_3_cat--> c-reactive protein day 3 category:    1 = 0-19.9    2 = 20-59.0    3 = 60-99.9    4 = 100-179    5 = 180+\n",
    "- ddimer_3_cat--> D-dimer  day 3 category:    1 = 0-499    2 = 500-999    3 = 1000-1999    4 = 2000-3999    5 = 4000+\n",
    "- ldh_3_cat--> Lactate dehydrogenase day 3 category:    1 = 0-200    2 = 200-299    3 = 300-399    4 = 400-499    5 = 500+\n",
    "- abs_neut_7_cat--> Absulute neutrophil count day 7 category:    1 = 0-0.99    2 = 1.0-3.99    3 = 4.0-7.99    4 = 8.0-11.99    5 = 12+    \n",
    "- abs_lymph_7_cat--> Absolute lymphocyte count day 7 category:    1 = 0-0.49    2 = 0.50-0.99    3 = 1.00-1.49    4 = 1.50-1.99    5 = 2+    \n",
    "- abs_mono_7_cat--> Absolute monocyte count day 7 category:    1 = 0-0.24    2 = 0.25-0.49    3 = 0.50-0.74    4 = 0.75-0.99    5 = 1.0+\n",
    "- creat_7_cat--> Creatinine day 7 category    1 = 0-0.79    2 = 0.80-1.19    3 = 1.20-1.79    4 = 1.80-2.99    5 = 3+\n",
    "- crp_7_cat--> c-reactive protein day 7 category:    1 = 0-19.9    2 = 20-59.0    3 = 60-99.9    4 = 100-179    5 = 180+\n",
    "- ddimer_7_cat--> D-dimer  day 3 category:    1 = 0-499    2 = 500-999    3 = 1000-1999    4 = 2000-3999    5 = 4000+\n",
    "- ldh_7_cat--> \tLactate dehydrogenase day 7 category:    1 = 0-200    2 = 200-299    3 = 300-399    4 = 400-499    5 = 500+"
   ]
  },
  {
   "cell_type": "markdown",
   "id": "2ad6de17-e2d3-42d3-9bde-00dfe07722e1",
   "metadata": {},
   "source": [
    "# Libraries"
   ]
  },
  {
   "cell_type": "code",
   "execution_count": 8,
   "id": "bba5084b-37c7-4c10-9b85-86e7073ab512",
   "metadata": {},
   "outputs": [],
   "source": [
    "import pandas as pd\n",
    "import numpy as np\n",
    "import matplotlib.pyplot as plt\n",
    "import seaborn as sns\n",
    "import plotly.express as px\n",
    "import sklearn as svn\n",
    "%matplotlib inline\n",
    "\n",
    "from PIL import Image\n",
    "import plotly.graph_objects as go\n",
    "from plotly.subplots import make_subplots\n",
    "import plotly.figure_factory as ff\n",
    "from prettytable import PrettyTable\n",
    "from PIL import Image, ImageDraw, ImageFont"
   ]
  },
  {
   "cell_type": "markdown",
   "id": "2929df58-84f8-485a-b5a8-ff0bb0ad3ebd",
   "metadata": {},
   "source": [
    "# Loading dataset"
   ]
  },
  {
   "cell_type": "code",
   "execution_count": 5,
   "id": "1df763a1-ee05-49d4-82de-c4054429da9d",
   "metadata": {},
   "outputs": [],
   "source": [
    "data = pd.read_csv('MGH_COVID_Clinical_Info.txt', sep=';')"
   ]
  },
  {
   "cell_type": "markdown",
   "id": "f032905d-b7bd-41d1-99f2-09eb430af863",
   "metadata": {},
   "source": [
    "# Brief Information"
   ]
  },
  {
   "cell_type": "code",
   "execution_count": 3,
   "id": "3d29b210",
   "metadata": {},
   "outputs": [],
   "source": [
    "from pandas_profiling import ProfileReport"
   ]
  },
  {
   "cell_type": "code",
   "execution_count": 6,
   "id": "75b2372c",
   "metadata": {},
   "outputs": [
    {
     "data": {
      "text/html": [
       "<div>\n",
       "<style scoped>\n",
       "    .dataframe tbody tr th:only-of-type {\n",
       "        vertical-align: middle;\n",
       "    }\n",
       "\n",
       "    .dataframe tbody tr th {\n",
       "        vertical-align: top;\n",
       "    }\n",
       "\n",
       "    .dataframe thead th {\n",
       "        text-align: right;\n",
       "    }\n",
       "</style>\n",
       "<table border=\"1\" class=\"dataframe\">\n",
       "  <thead>\n",
       "    <tr style=\"text-align: right;\">\n",
       "      <th></th>\n",
       "      <th>subject_id</th>\n",
       "      <th>COVID</th>\n",
       "      <th>Age_cat</th>\n",
       "      <th>BMI_cat</th>\n",
       "      <th>HEART</th>\n",
       "      <th>LUNG</th>\n",
       "      <th>KIDNEY</th>\n",
       "      <th>DIABETES</th>\n",
       "      <th>HTN</th>\n",
       "      <th>IMMUNO</th>\n",
       "      <th>...</th>\n",
       "      <th>crp_3_cat</th>\n",
       "      <th>ddimer_3_cat</th>\n",
       "      <th>ldh_3_cat</th>\n",
       "      <th>abs_neut_7_cat</th>\n",
       "      <th>abs_lymph_7_cat</th>\n",
       "      <th>abs_mono_7_cat</th>\n",
       "      <th>creat_7_cat</th>\n",
       "      <th>crp_7_cat</th>\n",
       "      <th>ddimer_7_cat</th>\n",
       "      <th>ldh_7_cat</th>\n",
       "    </tr>\n",
       "  </thead>\n",
       "  <tbody>\n",
       "    <tr>\n",
       "      <th>0</th>\n",
       "      <td>1</td>\n",
       "      <td>1</td>\n",
       "      <td>1</td>\n",
       "      <td>4</td>\n",
       "      <td>0</td>\n",
       "      <td>0</td>\n",
       "      <td>0</td>\n",
       "      <td>0</td>\n",
       "      <td>0</td>\n",
       "      <td>0</td>\n",
       "      <td>...</td>\n",
       "      <td>1.0</td>\n",
       "      <td>1.0</td>\n",
       "      <td>1.0</td>\n",
       "      <td>NaN</td>\n",
       "      <td>NaN</td>\n",
       "      <td>NaN</td>\n",
       "      <td>NaN</td>\n",
       "      <td>NaN</td>\n",
       "      <td>NaN</td>\n",
       "      <td>NaN</td>\n",
       "    </tr>\n",
       "    <tr>\n",
       "      <th>1</th>\n",
       "      <td>2</td>\n",
       "      <td>1</td>\n",
       "      <td>2</td>\n",
       "      <td>2</td>\n",
       "      <td>0</td>\n",
       "      <td>0</td>\n",
       "      <td>0</td>\n",
       "      <td>0</td>\n",
       "      <td>0</td>\n",
       "      <td>0</td>\n",
       "      <td>...</td>\n",
       "      <td>2.0</td>\n",
       "      <td>NaN</td>\n",
       "      <td>NaN</td>\n",
       "      <td>NaN</td>\n",
       "      <td>NaN</td>\n",
       "      <td>NaN</td>\n",
       "      <td>NaN</td>\n",
       "      <td>NaN</td>\n",
       "      <td>NaN</td>\n",
       "      <td>NaN</td>\n",
       "    </tr>\n",
       "  </tbody>\n",
       "</table>\n",
       "<p>2 rows × 44 columns</p>\n",
       "</div>"
      ],
      "text/plain": [
       "   subject_id  COVID  Age_cat  BMI_cat  HEART  LUNG  KIDNEY  DIABETES  HTN  \\\n",
       "0           1      1        1        4      0     0       0         0    0   \n",
       "1           2      1        2        2      0     0       0         0    0   \n",
       "\n",
       "   IMMUNO  ...  crp_3_cat  ddimer_3_cat  ldh_3_cat  abs_neut_7_cat  \\\n",
       "0       0  ...        1.0           1.0        1.0             NaN   \n",
       "1       0  ...        2.0           NaN        NaN             NaN   \n",
       "\n",
       "   abs_lymph_7_cat  abs_mono_7_cat  creat_7_cat  crp_7_cat  ddimer_7_cat  \\\n",
       "0              NaN             NaN          NaN        NaN           NaN   \n",
       "1              NaN             NaN          NaN        NaN           NaN   \n",
       "\n",
       "   ldh_7_cat  \n",
       "0        NaN  \n",
       "1        NaN  \n",
       "\n",
       "[2 rows x 44 columns]"
      ]
     },
     "execution_count": 6,
     "metadata": {},
     "output_type": "execute_result"
    }
   ],
   "source": [
    "data.head(2)"
   ]
  },
  {
   "cell_type": "markdown",
   "id": "e22e3ae1-0aff-4cca-8f36-557689d9650c",
   "metadata": {
    "tags": []
   },
   "source": [
    "**Data was loaded correctly**"
   ]
  },
  {
   "cell_type": "code",
   "execution_count": 9,
   "id": "2350e93e-1140-4033-82bc-700dd88a958e",
   "metadata": {},
   "outputs": [
    {
     "name": "stdout",
     "output_type": "stream",
     "text": [
      "+-----------------+-----------+---------+-----+--------+---------+--------+-----+-----+\n",
      "|     Variable    | Data_type | Non-NaN | NaN | Unique | Example | Median | Max | Min |\n",
      "+-----------------+-----------+---------+-----+--------+---------+--------+-----+-----+\n",
      "|    subject_id   |   int64   |   384   |  0  |  384   |    1    | 193.5  | 386 |  1  |\n",
      "|      COVID      |   int64   |   384   |  0  |   1    |    1    |  1.0   |  1  |  0  |\n",
      "|     Age_cat     |   int64   |   384   |  0  |   5    |    1    |  3.0   |  5  |  1  |\n",
      "|     BMI_cat     |   int64   |   384   |  0  |   5    |    4    |  2.0   |  5  |  0  |\n",
      "|      HEART      |   int64   |   384   |  0  |   1    |    0    |  0.0   |  1  |  0  |\n",
      "|       LUNG      |   int64   |   384   |  0  |   1    |    0    |  0.0   |  1  |  0  |\n",
      "|      KIDNEY     |   int64   |   384   |  0  |   1    |    0    |  0.0   |  1  |  0  |\n",
      "|     DIABETES    |   int64   |   384   |  0  |   1    |    0    |  0.0   |  1  |  0  |\n",
      "|       HTN       |   int64   |   384   |  0  |   1    |    0    |  1.0   |  1  |  0  |\n",
      "|      IMMUNO     |   int64   |   384   |  0  |   1    |    0    |  0.0   |  1  |  0  |\n",
      "|    Resp_Symp    |   int64   |   384   |  0  |   1    |    1    |  1.0   |  1  |  0  |\n",
      "|   Fever_Sympt   |   int64   |   384   |  0  |   1    |    1    |  1.0   |  1  |  0  |\n",
      "|     GI_Symp     |   int64   |   384   |  0  |   1    |    1    |  0.0   |  1  |  0  |\n",
      "|     D0_draw     |  float64  |   383   |  1  |   2    |   1.0   |  1.0   | 1.0 | 1.0 |\n",
      "|     D3_draw     |  float64  |   383   |  1  |   2    |   1.0   |  1.0   | 1.0 | 0.0 |\n",
      "|     D7_draw     |  float64  |   383   |  1  |   2    |   0.0   |  0.0   | 1.0 | 0.0 |\n",
      "|     DE_draw     |  float64  |   383   |  1  |   2    |   0.0   |  0.0   | 1.0 | 0.0 |\n",
      "|     Acuity_0    |   int64   |   384   |  0  |   5    |    3    |  3.0   |  5  |  1  |\n",
      "|     Acuity_3    |   int64   |   384   |  0  |   5    |    4    |  3.0   |  5  |  1  |\n",
      "|     Acuity_7    |   int64   |   384   |  0  |   5    |    5    |  4.0   |  5  |  1  |\n",
      "|    Acuity_28    |   int64   |   384   |  0  |   5    |    5    |  5.0   |  5  |  1  |\n",
      "|    Acuity_max   |   int64   |   384   |  0  |   5    |    3    |  3.0   |  5  |  1  |\n",
      "|  abs_neut_0_cat |  float64  |   380   |  4  |   6    |   3.0   |  3.0   | 5.0 | 1.0 |\n",
      "| abs_lymph_0_cat |  float64  |   379   |  5  |   6    |   2.0   |  3.0   | 5.0 | 1.0 |\n",
      "|  abs_mono_0_cat |  float64  |   376   |  8  |   6    |   2.0   |  2.0   | 5.0 | 1.0 |\n",
      "|   creat_0_cat   |  float64  |   381   |  3  |   6    |   2.0   |  2.0   | 5.0 | 1.0 |\n",
      "|    crp_0_cat    |  float64  |   366   |  18 |   6    |   1.0   |  3.0   | 5.0 | 1.0 |\n",
      "|   ddimer_0_cat  |  float64  |   358   |  26 |   6    |   1.0   |  3.0   | 5.0 | 1.0 |\n",
      "|    ldh_0_cat    |  float64  |   362   |  22 |   6    |   2.0   |  3.0   | 5.0 | 1.0 |\n",
      "|     Trop_72h    |   int64   |   384   |  0  |   1    |    0    |  0.0   |  1  |  0  |\n",
      "|  abs_neut_3_cat |  float64  |   278   | 106 |   6    |   2.0   |  3.0   | 5.0 | 1.0 |\n",
      "| abs_lymph_3_cat |  float64  |   277   | 107 |   6    |   4.0   |  3.0   | 5.0 | 1.0 |\n",
      "|  abs_mono_3_cat |  float64  |   274   | 110 |   6    |   2.0   |  3.0   | 5.0 | 1.0 |\n",
      "|   creat_3_cat   |  float64  |   279   | 105 |   6    |   1.0   |  2.0   | 5.0 | 1.0 |\n",
      "|    crp_3_cat    |  float64  |   228   | 156 |   6    |   1.0   |  4.0   | 5.0 | 1.0 |\n",
      "|   ddimer_3_cat  |  float64  |   209   | 175 |   6    |   1.0   |  3.0   | 5.0 | 1.0 |\n",
      "|    ldh_3_cat    |  float64  |   193   | 191 |   6    |   1.0   |  3.0   | 5.0 | 1.0 |\n",
      "|  abs_neut_7_cat |  float64  |   179   | 205 |   6    |   3.0   |  3.0   | 5.0 | 1.0 |\n",
      "| abs_lymph_7_cat |  float64  |   178   | 206 |   6    |   5.0   |  3.0   | 5.0 | 1.0 |\n",
      "|  abs_mono_7_cat |  float64  |   178   | 206 |   6    |   3.0   |  3.0   | 5.0 | 1.0 |\n",
      "|   creat_7_cat   |  float64  |   191   | 193 |   6    |   1.0   |  2.0   | 5.0 | 1.0 |\n",
      "|    crp_7_cat    |  float64  |   144   | 240 |   6    |   4.0   |  3.0   | 5.0 | 1.0 |\n",
      "|   ddimer_7_cat  |  float64  |   133   | 251 |   6    |   4.0   |  3.0   | 5.0 | 1.0 |\n",
      "|    ldh_7_cat    |  float64  |   115   | 269 |   6    |   3.0   |  3.0   | 5.0 | 1.0 |\n",
      "+-----------------+-----------+---------+-----+--------+---------+--------+-----+-----+\n",
      "\n",
      "Table-I. Description of variables in clinical covid dataset\n"
     ]
    }
   ],
   "source": [
    "beautitable(data)\n",
    "print('Table-I. Description of variables in clinical covid dataset')"
   ]
  },
  {
   "cell_type": "markdown",
   "id": "1894de9d-298d-40fd-9563-fbb50cf0388c",
   "metadata": {},
   "source": [
    "# Data Cleaning"
   ]
  },
  {
   "cell_type": "markdown",
   "id": "648069f0-49ff-4234-801d-fe9657c7ae9f",
   "metadata": {},
   "source": [
    "## Identification of NaN values"
   ]
  },
  {
   "cell_type": "code",
   "execution_count": 32,
   "id": "4acd1a24",
   "metadata": {},
   "outputs": [
    {
     "data": {
      "text/plain": [
       "subject_id           0\n",
       "COVID                0\n",
       "Age_cat              0\n",
       "BMI_cat              0\n",
       "HEART                0\n",
       "LUNG                 0\n",
       "KIDNEY               0\n",
       "DIABETES             0\n",
       "HTN                  0\n",
       "IMMUNO               0\n",
       "Resp_Symp            0\n",
       "Fever_Sympt          0\n",
       "GI_Symp              0\n",
       "D0_draw              1\n",
       "D3_draw              1\n",
       "D7_draw              1\n",
       "DE_draw              1\n",
       "Acuity_0             0\n",
       "Acuity_3             0\n",
       "Acuity_7             0\n",
       "Acuity_28            0\n",
       "Acuity_max           0\n",
       "abs_neut_0_cat       4\n",
       "abs_lymph_0_cat      5\n",
       "abs_mono_0_cat       8\n",
       "creat_0_cat          3\n",
       "crp_0_cat           18\n",
       "ddimer_0_cat        26\n",
       "ldh_0_cat           22\n",
       "Trop_72h             0\n",
       "abs_neut_3_cat     106\n",
       "abs_lymph_3_cat    107\n",
       "abs_mono_3_cat     110\n",
       "creat_3_cat        105\n",
       "crp_3_cat          156\n",
       "ddimer_3_cat       175\n",
       "ldh_3_cat          191\n",
       "abs_neut_7_cat     205\n",
       "abs_lymph_7_cat    206\n",
       "abs_mono_7_cat     206\n",
       "creat_7_cat        193\n",
       "crp_7_cat          240\n",
       "ddimer_7_cat       251\n",
       "ldh_7_cat          269\n",
       "dtype: int64"
      ]
     },
     "execution_count": 32,
     "metadata": {},
     "output_type": "execute_result"
    }
   ],
   "source": [
    "data.isna().sum()"
   ]
  },
  {
   "cell_type": "markdown",
   "id": "b35ab431",
   "metadata": {},
   "source": [
    "## Para este estudio es importante identificar los elementos que afectan a la prognosis del pacientes. Para ello el estudio se centra en las caracteristicas clinicas a t0 (D0_Draw=1)"
   ]
  },
  {
   "cell_type": "code",
   "execution_count": 36,
   "id": "93ad7082-692e-4890-b364-ff2d28ef5bb3",
   "metadata": {},
   "outputs": [],
   "source": [
    "##droping the only one NaN in D0_draw\n",
    "df = data.drop(383)"
   ]
  },
  {
   "cell_type": "code",
   "execution_count": 40,
   "id": "d5bc1fd1",
   "metadata": {},
   "outputs": [],
   "source": [
    "## Generation of dataframe with individuals that were COVID19 positive and started the study at day 0\n",
    "df=df.loc[(df['COVID']==1)&(df['D0_draw']==1)]"
   ]
  },
  {
   "cell_type": "code",
   "execution_count": 59,
   "id": "a85d1239",
   "metadata": {},
   "outputs": [],
   "source": [
    "df2 = df.dropna(subset=['abs_neut_0_cat','abs_lymph_0_cat',\n",
    "                        'abs_mono_0_cat','creat_0_cat',\n",
    "                        'crp_0_cat','ddimer_0_cat',\n",
    "                       'ldh_0_cat','ldh_0_cat'])"
   ]
  },
  {
   "cell_type": "code",
   "execution_count": 60,
   "id": "7db0aa4f",
   "metadata": {},
   "outputs": [
    {
     "name": "stdout",
     "output_type": "stream",
     "text": [
      "<class 'pandas.core.frame.DataFrame'>\n",
      "Int64Index: 281 entries, 0 to 382\n",
      "Data columns (total 44 columns):\n",
      " #   Column           Non-Null Count  Dtype  \n",
      "---  ------           --------------  -----  \n",
      " 0   subject_id       281 non-null    int64  \n",
      " 1   COVID            281 non-null    int64  \n",
      " 2   Age_cat          281 non-null    int64  \n",
      " 3   BMI_cat          281 non-null    int64  \n",
      " 4   HEART            281 non-null    int64  \n",
      " 5   LUNG             281 non-null    int64  \n",
      " 6   KIDNEY           281 non-null    int64  \n",
      " 7   DIABETES         281 non-null    int64  \n",
      " 8   HTN              281 non-null    int64  \n",
      " 9   IMMUNO           281 non-null    int64  \n",
      " 10  Resp_Symp        281 non-null    int64  \n",
      " 11  Fever_Sympt      281 non-null    int64  \n",
      " 12  GI_Symp          281 non-null    int64  \n",
      " 13  D0_draw          281 non-null    float64\n",
      " 14  D3_draw          281 non-null    float64\n",
      " 15  D7_draw          281 non-null    float64\n",
      " 16  DE_draw          281 non-null    float64\n",
      " 17  Acuity_0         281 non-null    int64  \n",
      " 18  Acuity_3         281 non-null    int64  \n",
      " 19  Acuity_7         281 non-null    int64  \n",
      " 20  Acuity_28        281 non-null    int64  \n",
      " 21  Acuity_max       281 non-null    int64  \n",
      " 22  abs_neut_0_cat   281 non-null    float64\n",
      " 23  abs_lymph_0_cat  281 non-null    float64\n",
      " 24  abs_mono_0_cat   281 non-null    float64\n",
      " 25  creat_0_cat      281 non-null    float64\n",
      " 26  crp_0_cat        281 non-null    float64\n",
      " 27  ddimer_0_cat     281 non-null    float64\n",
      " 28  ldh_0_cat        281 non-null    float64\n",
      " 29  Trop_72h         281 non-null    int64  \n",
      " 30  abs_neut_3_cat   221 non-null    float64\n",
      " 31  abs_lymph_3_cat  220 non-null    float64\n",
      " 32  abs_mono_3_cat   218 non-null    float64\n",
      " 33  creat_3_cat      216 non-null    float64\n",
      " 34  crp_3_cat        193 non-null    float64\n",
      " 35  ddimer_3_cat     183 non-null    float64\n",
      " 36  ldh_3_cat        166 non-null    float64\n",
      " 37  abs_neut_7_cat   143 non-null    float64\n",
      " 38  abs_lymph_7_cat  142 non-null    float64\n",
      " 39  abs_mono_7_cat   142 non-null    float64\n",
      " 40  creat_7_cat      148 non-null    float64\n",
      " 41  crp_7_cat        126 non-null    float64\n",
      " 42  ddimer_7_cat     119 non-null    float64\n",
      " 43  ldh_7_cat        102 non-null    float64\n",
      "dtypes: float64(25), int64(19)\n",
      "memory usage: 98.8 KB\n"
     ]
    }
   ],
   "source": [
    "df2.info()"
   ]
  },
  {
   "cell_type": "markdown",
   "id": "acd445c8",
   "metadata": {},
   "source": [
    "**Hay un total de 281 individuos que son elegibles para este estudio**"
   ]
  },
  {
   "cell_type": "code",
   "execution_count": 61,
   "id": "88faad68",
   "metadata": {},
   "outputs": [],
   "source": [
    "df2.to_csv('COVID_pos.csv')"
   ]
  },
  {
   "cell_type": "markdown",
   "id": "b4fa8ee7-0587-4c87-bda4-360b57890db6",
   "metadata": {
    "tags": []
   },
   "source": [
    "# Annex\n",
    "**Functions for making personalized graphs and smart analysis** "
   ]
  },
  {
   "cell_type": "markdown",
   "id": "25f0df44-b0f3-461f-9f20-2a75dbe49cba",
   "metadata": {},
   "source": [
    "## Beautiful table"
   ]
  },
  {
   "cell_type": "code",
   "execution_count": 1,
   "id": "2a7cf48d-6c27-43c1-a5e6-5b2813c567f3",
   "metadata": {},
   "outputs": [],
   "source": [
    "##Generation of a beauti-table\n",
    "def beautitable(data):\n",
    "    table = PrettyTable(['Variable',\n",
    "                         'Data_type',\n",
    "                         'Non-NaN',\n",
    "                         'NaN',\n",
    "                         'Unique',\n",
    "                         'Example',\n",
    "                        'Median',\n",
    "                        'Max',\n",
    "                        'Min'])\n",
    "    for i in data.columns:\n",
    "        table.add_row([i, \n",
    "                       data[i].dtype,\n",
    "                       len(data[i]) - np.sum(data[i].isnull()),\n",
    "                       np.sum(data[i].isnull()),\n",
    "                       np.count_nonzero(data[i].unique()),\n",
    "                       data[~data[i].isnull()][i].iloc[0],\n",
    "                       data[i].median(),\n",
    "                       data[i].max(),\n",
    "                       data[i].min()\n",
    "                    ])\n",
    "    print(table)\n",
    "    print()\n",
    "    return           "
   ]
  },
  {
   "cell_type": "code",
   "execution_count": null,
   "id": "a868473d",
   "metadata": {},
   "outputs": [],
   "source": []
  }
 ],
 "metadata": {
  "kernelspec": {
   "display_name": "Python 3 (ipykernel)",
   "language": "python",
   "name": "python3"
  },
  "language_info": {
   "codemirror_mode": {
    "name": "ipython",
    "version": 3
   },
   "file_extension": ".py",
   "mimetype": "text/x-python",
   "name": "python",
   "nbconvert_exporter": "python",
   "pygments_lexer": "ipython3",
   "version": "3.9.13"
  },
  "toc-autonumbering": false,
  "toc-showcode": true,
  "toc-showmarkdowntxt": false
 },
 "nbformat": 4,
 "nbformat_minor": 5
}
